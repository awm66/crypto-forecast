{
 "cells": [
  {
   "cell_type": "code",
   "execution_count": 76,
   "id": "edb0ccd2-a4d7-4af9-a246-963990b67e3a",
   "metadata": {},
   "outputs": [],
   "source": [
    "# Dependencies\n",
    "import requests\n",
    "import time\n",
    "from dotenv import load_dotenv\n",
    "import os\n",
    "import pandas as pd\n",
    "from pandas import json_normalize\n",
    "import json\n",
    "import re"
   ]
  },
  {
   "cell_type": "code",
   "execution_count": 77,
   "id": "1522fbb8-165b-4f93-ad96-98e4c72b53a8",
   "metadata": {},
   "outputs": [],
   "source": [
    "# Set close date\n",
    "date = '2024-05-22'"
   ]
  },
  {
   "cell_type": "code",
   "execution_count": 78,
   "id": "de091e1f-d95c-44e0-8aa9-72ec8d3e4ae4",
   "metadata": {},
   "outputs": [
    {
     "data": {
      "text/plain": [
       "'&from=2024-05-22T00:00:01'"
      ]
     },
     "execution_count": 78,
     "metadata": {},
     "output_type": "execute_result"
    }
   ],
   "source": [
    "# Set API from variable YYYY-MM-DDTHour:Min\n",
    "from_date = f'&from={date}T00:00:01'\n",
    "from_date"
   ]
  },
  {
   "cell_type": "code",
   "execution_count": 79,
   "id": "7703b4d4-913e-4827-acdf-34e2e2b26010",
   "metadata": {},
   "outputs": [
    {
     "data": {
      "text/plain": [
       "'&to=2024-05-22T23:59:59'"
      ]
     },
     "execution_count": 79,
     "metadata": {},
     "output_type": "execute_result"
    }
   ],
   "source": [
    "# Set API to variable YYYY-MM-DDTHour:Min\n",
    "to_date = f'&to={date}T23:59:59'\n",
    "to_date"
   ]
  },
  {
   "cell_type": "code",
   "execution_count": 121,
   "id": "ee0eb1ba-af9c-44e3-b551-db598d905ef5",
   "metadata": {},
   "outputs": [
    {
     "data": {
      "text/plain": [
       "'X-CoinAPI-Key: C8F7F7A0-4BB2-445A-8A7E-31A078F84A00'"
      ]
     },
     "execution_count": 121,
     "metadata": {},
     "output_type": "execute_result"
    }
   ],
   "source": [
    "# Set environment variables from the .env in the local environment\n",
    "load_dotenv()\n",
    "\n",
    "# Set api keys\n",
    "fcs_api_key = os.getenv(\"FCS_API_KEY\")\n",
    "coin_api_key = os.getenv(\"COIN_API_KEY\")"
   ]
  },
  {
   "cell_type": "code",
   "execution_count": 122,
   "id": "cbb63cc5-7578-4a61-b7fd-d109e8f1f524",
   "metadata": {},
   "outputs": [
    {
     "data": {
      "text/plain": [
       "'https://rest.coinapi.io/v1/apikey-C8F7F7A0-4BB2-445A-8A7E-31A078F84A00/assets?filter_asset_id=BTC;ETH'"
      ]
     },
     "execution_count": 122,
     "metadata": {},
     "output_type": "execute_result"
    }
   ],
   "source": [
    "url = f'https://rest.coinapi.io/v1/apikey-{coin_api_key}/assets?filter_asset_id=BTC;ETH'\n",
    "url"
   ]
  },
  {
   "cell_type": "code",
   "execution_count": 142,
   "id": "482faef7-b5d7-4b4e-864a-f0666a037c55",
   "metadata": {},
   "outputs": [
    {
     "name": "stdout",
     "output_type": "stream",
     "text": [
      "[\n",
      "    {\n",
      "        \"asset_id\": \"BTC\",\n",
      "        \"name\": \"Bitcoin\",\n",
      "        \"type_is_crypto\": 1,\n",
      "        \"data_quote_start\": \"2014-02-24T00:00:00.0000000Z\",\n",
      "        \"data_quote_end\": \"2024-05-22T00:00:00.0000000Z\",\n",
      "        \"data_orderbook_start\": \"2014-02-24T17:43:05.0000000Z\",\n",
      "        \"data_orderbook_end\": \"2023-07-07T00:00:00.0000000Z\",\n",
      "        \"data_trade_start\": \"2010-07-17T00:00:00.0000000Z\",\n",
      "        \"data_trade_end\": \"2024-05-22T00:00:00.0000000Z\",\n",
      "        \"data_symbols_count\": 225695,\n",
      "        \"volume_1hrs_usd\": 3096978391910762.0,\n",
      "        \"volume_1day_usd\": 2.0518925320426246e+17,\n",
      "        \"volume_1mth_usd\": 6.782446655794842e+18,\n",
      "        \"price_usd\": 67661.12670348803,\n",
      "        \"id_icon\": \"4caf2b16-a017-4e26-a348-2cea69c34cba\",\n",
      "        \"chain_addresses\": [\n",
      "            {\n",
      "                \"chain_id\": \"ARBITRUM\",\n",
      "                \"network_id\": \"MAINNET\",\n",
      "                \"address\": \"0x2f2a2543b76a4166549f7aab2e75bef0aefc5b0f\"\n",
      "            },\n",
      "            {\n",
      "                \"chain_id\": \"ETHEREUM\",\n",
      "                \"network_id\": \"MAINNET\",\n",
      "                \"address\": \"0x2260fac5e5542a773aa44fbcfedf7c193bc2c599\"\n",
      "            }\n",
      "        ],\n",
      "        \"data_start\": \"2010-07-17\",\n",
      "        \"data_end\": \"2024-05-22\"\n",
      "    },\n",
      "    {\n",
      "        \"asset_id\": \"XRP\",\n",
      "        \"name\": \"Ripple\",\n",
      "        \"type_is_crypto\": 1,\n",
      "        \"data_quote_start\": \"2014-08-01T00:00:00.0000000Z\",\n",
      "        \"data_quote_end\": \"2024-05-22T00:00:00.0000000Z\",\n",
      "        \"data_orderbook_start\": \"2014-07-31T13:05:46.0000000Z\",\n",
      "        \"data_orderbook_end\": \"2023-07-07T00:00:00.0000000Z\",\n",
      "        \"data_trade_start\": \"2013-11-25T00:00:00.0000000Z\",\n",
      "        \"data_trade_end\": \"2024-05-22T00:00:00.0000000Z\",\n",
      "        \"data_symbols_count\": 11414,\n",
      "        \"volume_1hrs_usd\": 43822407.16,\n",
      "        \"volume_1day_usd\": 5256557979.6,\n",
      "        \"volume_1mth_usd\": 79018290735.37,\n",
      "        \"price_usd\": 0.5283334830883255,\n",
      "        \"id_icon\": \"ba90bcb0-cafb-4801-ac5d-d310f47d6411\",\n",
      "        \"data_start\": \"2013-11-25\",\n",
      "        \"data_end\": \"2024-05-22\"\n",
      "    },\n",
      "    {\n",
      "        \"asset_id\": \"DOGE\",\n",
      "        \"name\": \"DogeCoin\",\n",
      "        \"type_is_crypto\": 1,\n",
      "        \"data_quote_start\": \"2014-08-01T00:00:00.0000000Z\",\n",
      "        \"data_quote_end\": \"2024-05-22T00:00:00.0000000Z\",\n",
      "        \"data_orderbook_start\": \"2014-07-31T13:05:46.0000000Z\",\n",
      "        \"data_orderbook_end\": \"2023-07-07T00:00:00.0000000Z\",\n",
      "        \"data_trade_start\": \"2014-02-21T00:00:00.0000000Z\",\n",
      "        \"data_trade_end\": \"2024-05-22T00:00:00.0000000Z\",\n",
      "        \"data_symbols_count\": 7251,\n",
      "        \"volume_1hrs_usd\": 73892928.47,\n",
      "        \"volume_1day_usd\": 256165803646.48,\n",
      "        \"volume_1mth_usd\": 8822076533924.84,\n",
      "        \"price_usd\": 0.15962946736958145,\n",
      "        \"id_icon\": \"63e240f3-047f-41c7-9179-6784bc719f63\",\n",
      "        \"data_start\": \"2014-02-21\",\n",
      "        \"data_end\": \"2024-05-22\"\n",
      "    },\n",
      "    {\n",
      "        \"asset_id\": \"ETH\",\n",
      "        \"name\": \"Ethereum\",\n",
      "        \"type_is_crypto\": 1,\n",
      "        \"data_quote_start\": \"2015-08-08T00:00:00.0000000Z\",\n",
      "        \"data_quote_end\": \"2024-05-22T00:00:00.0000000Z\",\n",
      "        \"data_orderbook_start\": \"2015-08-07T14:50:38.1774950Z\",\n",
      "        \"data_orderbook_end\": \"2023-07-07T00:00:00.0000000Z\",\n",
      "        \"data_trade_start\": \"2015-08-07T00:00:00.0000000Z\",\n",
      "        \"data_trade_end\": \"2024-05-22T00:00:00.0000000Z\",\n",
      "        \"data_symbols_count\": 185427,\n",
      "        \"volume_1hrs_usd\": 44742496361349.98,\n",
      "        \"volume_1day_usd\": 4.601324627010953e+22,\n",
      "        \"volume_1mth_usd\": 3.968072836333721e+23,\n",
      "        \"price_usd\": 3770.2299085507184,\n",
      "        \"id_icon\": \"604ae453-3d9f-4ad0-9a48-9905cce617c2\",\n",
      "        \"chain_addresses\": [\n",
      "            {\n",
      "                \"chain_id\": \"ARBITRUM\",\n",
      "                \"network_id\": \"MAINNET\",\n",
      "                \"address\": \"0x82af49447d8a07e3bd95bd0d56f35241523fbab1\"\n",
      "            },\n",
      "            {\n",
      "                \"chain_id\": \"ETHEREUM\",\n",
      "                \"network_id\": \"MAINNET\",\n",
      "                \"address\": \"0xc02aaa39b223fe8d0a0e5c4f27ead9083c756cc2\"\n",
      "            }\n",
      "        ],\n",
      "        \"data_start\": \"2015-08-07\",\n",
      "        \"data_end\": \"2024-05-22\"\n",
      "    },\n",
      "    {\n",
      "        \"asset_id\": \"BNB\",\n",
      "        \"name\": \"Binance Coin\",\n",
      "        \"type_is_crypto\": 1,\n",
      "        \"data_quote_start\": \"2017-03-20T00:00:00.0000000Z\",\n",
      "        \"data_quote_end\": \"2024-05-22T00:00:00.0000000Z\",\n",
      "        \"data_orderbook_start\": \"2017-03-19T01:03:17.3570790Z\",\n",
      "        \"data_orderbook_end\": \"2023-07-07T00:00:00.0000000Z\",\n",
      "        \"data_trade_start\": \"2017-01-14T00:00:00.0000000Z\",\n",
      "        \"data_trade_end\": \"2024-05-22T00:00:00.0000000Z\",\n",
      "        \"data_symbols_count\": 8758,\n",
      "        \"volume_1hrs_usd\": 5067384137.68,\n",
      "        \"volume_1day_usd\": 507598299842.62,\n",
      "        \"volume_1mth_usd\": 16379241103368.22,\n",
      "        \"price_usd\": 596.7996111680354,\n",
      "        \"chain_addresses\": [\n",
      "            {\n",
      "                \"chain_id\": \"ETHEREUM\",\n",
      "                \"network_id\": \"MAINNET\",\n",
      "                \"address\": \"0xb8c77482e45f1f44de1745f52c74426c631bdd52\"\n",
      "            }\n",
      "        ],\n",
      "        \"data_start\": \"2017-01-14\",\n",
      "        \"data_end\": \"2024-05-22\"\n",
      "    },\n",
      "    {\n",
      "        \"asset_id\": \"PEPE\",\n",
      "        \"name\": \"PepeCoin\",\n",
      "        \"type_is_crypto\": 1,\n",
      "        \"data_quote_start\": \"2017-06-19T00:00:00.0000000Z\",\n",
      "        \"data_quote_end\": \"2024-05-22T00:00:00.0000000Z\",\n",
      "        \"data_orderbook_start\": \"2017-06-18T07:46:26.3549222Z\",\n",
      "        \"data_orderbook_end\": \"2023-07-07T00:00:00.0000000Z\",\n",
      "        \"data_trade_start\": \"2017-06-16T00:00:00.0000000Z\",\n",
      "        \"data_trade_end\": \"2024-05-22T00:00:00.0000000Z\",\n",
      "        \"data_symbols_count\": 163,\n",
      "        \"volume_1hrs_usd\": 119627218.29,\n",
      "        \"volume_1day_usd\": 4196289806.85,\n",
      "        \"volume_1mth_usd\": 83550226212.96,\n",
      "        \"price_usd\": 1.4975138080536962e-05,\n",
      "        \"id_icon\": \"7e5dddf0-e41e-46b1-8281-a0cdb03cfb31\",\n",
      "        \"chain_addresses\": [\n",
      "            {\n",
      "                \"chain_id\": \"ARBITRUM\",\n",
      "                \"network_id\": \"MAINNET\",\n",
      "                \"address\": \"0xa54b8e178a49f8e5405a4d44bb31f496e5564a05\"\n",
      "            },\n",
      "            {\n",
      "                \"chain_id\": \"ETHEREUM\",\n",
      "                \"network_id\": \"MAINNET\",\n",
      "                \"address\": \"0x6982508145454ce325ddbe47a25d4ec3d2311933\"\n",
      "            }\n",
      "        ],\n",
      "        \"data_start\": \"2017-06-16\",\n",
      "        \"data_end\": \"2024-05-22\"\n",
      "    },\n",
      "    {\n",
      "        \"asset_id\": \"ADA\",\n",
      "        \"name\": \"Cardano\",\n",
      "        \"type_is_crypto\": 1,\n",
      "        \"data_quote_start\": \"2017-09-30T00:00:00.0000000Z\",\n",
      "        \"data_quote_end\": \"2024-05-22T00:00:00.0000000Z\",\n",
      "        \"data_orderbook_start\": \"2017-09-29T07:11:06.6463948Z\",\n",
      "        \"data_orderbook_end\": \"2023-07-07T00:00:00.0000000Z\",\n",
      "        \"data_trade_start\": \"2017-10-01T00:00:00.0000000Z\",\n",
      "        \"data_trade_end\": \"2024-05-22T00:00:00.0000000Z\",\n",
      "        \"data_symbols_count\": 1210,\n",
      "        \"volume_1hrs_usd\": 19512430.64,\n",
      "        \"volume_1day_usd\": 2158319208.51,\n",
      "        \"volume_1mth_usd\": 29444591733.98,\n",
      "        \"price_usd\": 0.4647714688494408,\n",
      "        \"id_icon\": \"2701173b-1b77-40f2-8693-9659359e225c\",\n",
      "        \"data_start\": \"2017-09-29\",\n",
      "        \"data_end\": \"2024-05-22\"\n",
      "    },\n",
      "    {\n",
      "        \"asset_id\": \"SHIB\",\n",
      "        \"name\": \"Shiba Inu\",\n",
      "        \"type_is_crypto\": 1,\n",
      "        \"data_quote_start\": \"2021-02-01T00:00:00.0000000Z\",\n",
      "        \"data_quote_end\": \"2024-05-22T00:00:00.0000000Z\",\n",
      "        \"data_orderbook_start\": \"2022-01-01T00:00:00.0000000Z\",\n",
      "        \"data_orderbook_end\": \"2023-07-07T00:00:00.0000000Z\",\n",
      "        \"data_trade_start\": \"2021-04-17T00:00:00.0000000Z\",\n",
      "        \"data_trade_end\": \"2024-05-22T00:00:00.0000000Z\",\n",
      "        \"data_symbols_count\": 360,\n",
      "        \"volume_1hrs_usd\": 1765592800.02,\n",
      "        \"volume_1day_usd\": 66504557644.39,\n",
      "        \"volume_1mth_usd\": 2051124166858.86,\n",
      "        \"price_usd\": 2.4514785131119535e-05,\n",
      "        \"chain_addresses\": [\n",
      "            {\n",
      "                \"chain_id\": \"ETHEREUM\",\n",
      "                \"network_id\": \"MAINNET\",\n",
      "                \"address\": \"0x95ad61b0a150d79219dcf64e1e6cc01f0b64c4ce\"\n",
      "            }\n",
      "        ],\n",
      "        \"data_start\": \"2021-02-01\",\n",
      "        \"data_end\": \"2024-05-22\"\n",
      "    },\n",
      "    {\n",
      "        \"asset_id\": \"BONK\",\n",
      "        \"name\": \"BONK\",\n",
      "        \"type_is_crypto\": 1,\n",
      "        \"data_quote_start\": \"2023-01-03T00:00:00.0000000Z\",\n",
      "        \"data_quote_end\": \"2024-05-22T00:00:00.0000000Z\",\n",
      "        \"data_orderbook_start\": \"2023-01-03T00:00:00.0000000Z\",\n",
      "        \"data_orderbook_end\": \"2023-07-07T00:00:00.0000000Z\",\n",
      "        \"data_trade_start\": \"2023-01-03T00:00:00.0000000Z\",\n",
      "        \"data_trade_end\": \"2024-05-22T00:00:00.0000000Z\",\n",
      "        \"data_symbols_count\": 61,\n",
      "        \"volume_1hrs_usd\": 3140718425.46,\n",
      "        \"volume_1day_usd\": 137367936669.0,\n",
      "        \"volume_1mth_usd\": 2464512440166.88,\n",
      "        \"price_usd\": 3.5013285225720665e-05,\n",
      "        \"data_start\": \"2023-01-03\",\n",
      "        \"data_end\": \"2024-05-22\"\n",
      "    }\n",
      "]\n"
     ]
    }
   ],
   "source": [
    "data_list = []\n",
    "\n",
    "#url = f'https://rest.coinapi.io/v1/exchangerate/BTC?apikey={coin_api_key}'\n",
    "#url = f'https://rest.coinapi.io/v1/apikey-{coin_api_key}/assets?filter_asset_id=BTC;ETH?period_id=1DAY&time_start=2024-05-22T00:00:00'\n",
    "#url = f'https://rest.coinapi.io/v1/apikey-{coin_api_key}/ohlcv/BINANCE_SPOT_ETH_BTC/history?period_id=1DAY&time_start=2024-05-22T00:00:00'\n",
    "#url = \"https://rest.coinapi.io/v1/quotes/BITSTAMP_SPOT_BTC_USD/history?period_id=1DAY&time_start=2024-05-22T00:00:00\"\n",
    "url = \"https://rest.coinapi.io/v1/assets?filter_asset_id=BTC;ETH;ADA;BNB;XRP;DOGE;SHIB;BONK;PEPE\"\n",
    "\n",
    "payload={}\n",
    "headers = {\n",
    "  'Accept': 'text/plain',\n",
    "  'X-CoinAPI-Key':f'{coin_api_key}'\n",
    "}\n",
    "\n",
    "\n",
    "\n",
    "response = requests.get(url, headers=headers, data=payload)\n",
    "\n",
    "# Get the JSON content from the response\n",
    "price = response.json()\n",
    "\n",
    "# Append the price data to the list\n",
    "data_list.append(price)\n",
    "\n",
    "# Dump first 5 results in JSON format\n",
    "# Note: 'price' itself is a single dictionary, so we'll dump the whole response\n",
    "formatted_json = json.dumps(price, indent=4)\n",
    "\n",
    "# Print json results\n",
    "print(formatted_json)"
   ]
  },
  {
   "cell_type": "code",
   "execution_count": 32,
   "id": "e2e67dfa-f7e6-4353-9495-b294a03cfc6c",
   "metadata": {},
   "outputs": [],
   "source": [
    "# URL for all crypto symbols\n",
    "#list_url = f\"https://fcsapi.com/api-v3/crypto/list?type=crypto&access_key={fcs_api_key}\""
   ]
  },
  {
   "cell_type": "code",
   "execution_count": 33,
   "id": "c22ff417-8813-4737-be16-1aad62e85145",
   "metadata": {},
   "outputs": [],
   "source": [
    "# Create closing price symbol list\n",
    "price_id_list = ['78', '79', '80', '8882', '3498', '2649', '12784', '8665', '2160']"
   ]
  },
  {
   "cell_type": "code",
   "execution_count": 34,
   "id": "295739dd-6f61-49b8-9873-8e9f8bf69574",
   "metadata": {},
   "outputs": [],
   "source": [
    "# Create crypto price list\n",
    "crypto_price_list = []\n",
    "\n",
    "# Loop through symbols\n",
    "for id in price_id_list:\n",
    "\n",
    "    # Create price request URL\n",
    "    crypto_price_url = f'https://fcsapi.com/api-v3/crypto/latest?{id}{from_date}{to_date}d&access_key={fcs_api_key}'\n",
    "    \n",
    "    # Make a \"GET\" request and retrieve the JSON\n",
    "    price = requests.get(crypto_price_url).json()\n",
    "\n",
    "    # Append to list\n",
    "    crypto_price_list.append(price)\n",
    "\n",
    "    # Add a twelve second interval between queries to stay within API query limits\n",
    "    time.sleep(12)"
   ]
  },
  {
   "cell_type": "code",
   "execution_count": 36,
   "id": "cfc1deaa-89a8-426a-9d9b-8c9c0ed8b028",
   "metadata": {},
   "outputs": [
    {
     "name": "stdout",
     "output_type": "stream",
     "text": [
      "[\n",
      "    {\n",
      "        \"status\": false,\n",
      "        \"code\": 113,\n",
      "        \"msg\": \"Sorry, Something wrong, or an invalid value. Please try again or check your required parameters.\",\n",
      "        \"info\": {\n",
      "            \"credit_count\": 0\n",
      "        }\n",
      "    },\n",
      "    {\n",
      "        \"status\": false,\n",
      "        \"code\": 113,\n",
      "        \"msg\": \"Sorry, Something wrong, or an invalid value. Please try again or check your required parameters.\",\n",
      "        \"info\": {\n",
      "            \"credit_count\": 0\n",
      "        }\n",
      "    },\n",
      "    {\n",
      "        \"status\": false,\n",
      "        \"code\": 113,\n",
      "        \"msg\": \"Sorry, Something wrong, or an invalid value. Please try again or check your required parameters.\",\n",
      "        \"info\": {\n",
      "            \"credit_count\": 0\n",
      "        }\n",
      "    },\n",
      "    {\n",
      "        \"status\": false,\n",
      "        \"code\": 113,\n",
      "        \"msg\": \"Sorry, Something wrong, or an invalid value. Please try again or check your required parameters.\",\n",
      "        \"info\": {\n",
      "            \"credit_count\": 0\n",
      "        }\n",
      "    },\n",
      "    {\n",
      "        \"status\": false,\n",
      "        \"code\": 113,\n",
      "        \"msg\": \"Sorry, Something wrong, or an invalid value. Please try again or check your required parameters.\",\n",
      "        \"info\": {\n",
      "            \"credit_count\": 0\n",
      "        }\n",
      "    }\n",
      "]\n"
     ]
    }
   ],
   "source": [
    "# Preview the first 5 results in JSON format\n",
    "# Use json.dumps with argument indent=4 to format data\n",
    "\n",
    "# Dump first 5 results in json format\n",
    "formatted_json = json.dumps(crypto_price_list[:5], indent=4)\n",
    "\n",
    "# Print json results\n",
    "print(formatted_json)"
   ]
  },
  {
   "cell_type": "code",
   "execution_count": 37,
   "id": "97904441-07e5-45bf-ad28-d53d43238ef0",
   "metadata": {},
   "outputs": [
    {
     "data": {
      "text/plain": [
       "[{'status': False,\n",
       "  'code': 113,\n",
       "  'msg': 'Sorry, Something wrong, or an invalid value. Please try again or check your required parameters.',\n",
       "  'info': {'credit_count': 0}},\n",
       " {'status': False,\n",
       "  'code': 113,\n",
       "  'msg': 'Sorry, Something wrong, or an invalid value. Please try again or check your required parameters.',\n",
       "  'info': {'credit_count': 0}},\n",
       " {'status': False,\n",
       "  'code': 113,\n",
       "  'msg': 'Sorry, Something wrong, or an invalid value. Please try again or check your required parameters.',\n",
       "  'info': {'credit_count': 0}},\n",
       " {'status': False,\n",
       "  'code': 113,\n",
       "  'msg': 'Sorry, Something wrong, or an invalid value. Please try again or check your required parameters.',\n",
       "  'info': {'credit_count': 0}},\n",
       " {'status': False,\n",
       "  'code': 113,\n",
       "  'msg': 'Sorry, Something wrong, or an invalid value. Please try again or check your required parameters.',\n",
       "  'info': {'credit_count': 0}},\n",
       " {'status': False,\n",
       "  'code': 213,\n",
       "  'msg': 'Access block for you, You have reached maximum 3 limit per minute in free account, Please stop extra hits or upgrade your account. Restriction remove after 1 minute.'},\n",
       " {'status': False,\n",
       "  'code': 213,\n",
       "  'msg': 'Access block for you, You have reached maximum 3 limit per minute in free account, Please stop extra hits or upgrade your account. Restriction remove after 1 minute.'},\n",
       " {'status': False,\n",
       "  'code': 113,\n",
       "  'msg': 'Sorry, Something wrong, or an invalid value. Please try again or check your required parameters.',\n",
       "  'info': {'credit_count': 0}},\n",
       " {'status': False,\n",
       "  'code': 213,\n",
       "  'msg': 'Access block for you, You have reached maximum 3 limit per minute in free account, Please stop extra hits or upgrade your account. Restriction remove after 1 minute.'}]"
      ]
     },
     "execution_count": 37,
     "metadata": {},
     "output_type": "execute_result"
    }
   ],
   "source": [
    "crypto_price_list"
   ]
  },
  {
   "cell_type": "code",
   "execution_count": 51,
   "id": "21d7d61c-ec5c-4b9b-85ab-b06b85b57814",
   "metadata": {},
   "outputs": [
    {
     "data": {
      "text/plain": [
       "'https://fcsapi.com/api-v3/crypto/latest?id=78&from=2024-05-22T00:00:01&to=2024-05-22T23:59:59&access_key=E6qKRUNBqEDlWJZ7KBFTSraWZ'"
      ]
     },
     "execution_count": 51,
     "metadata": {},
     "output_type": "execute_result"
    }
   ],
   "source": [
    "# Create price request URL\n",
    "crypto_price_url = f'https://fcsapi.com/api-v3/crypto/latest?id=78{from_date}{to_date}&access_key={fcs_api_key}'\n",
    "crypto_price_url"
   ]
  },
  {
   "cell_type": "code",
   "execution_count": 41,
   "id": "80981585-1d19-4bee-87e9-ed6c21e46d8c",
   "metadata": {},
   "outputs": [
    {
     "name": "stdout",
     "output_type": "stream",
     "text": [
      "[\n",
      "    {\n",
      "        \"status\": false,\n",
      "        \"code\": 113,\n",
      "        \"msg\": \"Sorry, Something wrong, or an invalid value. Please try again or check your required parameters.\",\n",
      "        \"info\": {\n",
      "            \"credit_count\": 0\n",
      "        }\n",
      "    },\n",
      "    {\n",
      "        \"status\": false,\n",
      "        \"code\": 113,\n",
      "        \"msg\": \"Sorry, Something wrong, or an invalid value. Please try again or check your required parameters.\",\n",
      "        \"info\": {\n",
      "            \"credit_count\": 0\n",
      "        }\n",
      "    },\n",
      "    {\n",
      "        \"status\": false,\n",
      "        \"code\": 113,\n",
      "        \"msg\": \"Sorry, Something wrong, or an invalid value. Please try again or check your required parameters.\",\n",
      "        \"info\": {\n",
      "            \"credit_count\": 0\n",
      "        }\n",
      "    },\n",
      "    {\n",
      "        \"status\": false,\n",
      "        \"code\": 113,\n",
      "        \"msg\": \"Sorry, Something wrong, or an invalid value. Please try again or check your required parameters.\",\n",
      "        \"info\": {\n",
      "            \"credit_count\": 0\n",
      "        }\n",
      "    },\n",
      "    {\n",
      "        \"status\": false,\n",
      "        \"code\": 113,\n",
      "        \"msg\": \"Sorry, Something wrong, or an invalid value. Please try again or check your required parameters.\",\n",
      "        \"info\": {\n",
      "            \"credit_count\": 0\n",
      "        }\n",
      "    }\n",
      "]\n"
     ]
    }
   ],
   "source": [
    "# Make a \"GET\" request and retrieve the JSON\n",
    "price = requests.get(crypto_price_url).json()\n",
    "\n",
    "# Append to list\n",
    "crypto_price_list.append(price)\n",
    "\n",
    "# Dump first 5 results in json format\n",
    "formatted_json = json.dumps(crypto_price_list[:5], indent=4)\n",
    "\n",
    "# Print json results\n",
    "print(formatted_json)"
   ]
  },
  {
   "cell_type": "code",
   "execution_count": 48,
   "id": "1778a494-dd54-4f2f-8d14-60aabd2e96ea",
   "metadata": {},
   "outputs": [
    {
     "data": {
      "text/plain": [
       "'https://fcsapi.com/api-v3/crypto/latest?id=79&access_key=E6qKRUNBqEDlWJZ7KBFTSraWZ'"
      ]
     },
     "execution_count": 48,
     "metadata": {},
     "output_type": "execute_result"
    }
   ],
   "source": [
    "crypto_price_url = f'https://fcsapi.com/api-v3/crypto/latest?id=79&access_key={fcs_api_key}'\n",
    "crypto_price_url"
   ]
  },
  {
   "cell_type": "code",
   "execution_count": 47,
   "id": "87a4dd4a-d849-4b73-9794-1bf9ab4b228d",
   "metadata": {},
   "outputs": [
    {
     "data": {
      "text/plain": [
       "'https://fcsapi.com/api-v3/crypto/latest?id=80&access_key=E6qKRUNBqEDlWJZ7KBFTSraWZ'"
      ]
     },
     "metadata": {},
     "output_type": "display_data"
    }
   ],
   "source": [
    "crypto_price_url = f'https://fcsapi.com/api-v3/crypto/latest?id=80&access_key={fcs_api_key}'\n",
    "crypto_price_url"
   ]
  },
  {
   "cell_type": "code",
   "execution_count": null,
   "id": "1f9b9a13-528c-4e3d-8b62-f7de76a0f56c",
   "metadata": {},
   "outputs": [],
   "source": [
    "#f'https://fcsapi.com/api-v3/crypto/latest?symbol=BTC/USD,ETH/USD&access_key=E6qKRUNBqEDlWJZ7KBFTSraWZ'\n"
   ]
  },
  {
   "cell_type": "code",
   "execution_count": null,
   "id": "03b27405-6289-4796-b859-29746b48b121",
   "metadata": {},
   "outputs": [],
   "source": []
  }
 ],
 "metadata": {
  "kernelspec": {
   "display_name": "Python 3 (ipykernel)",
   "language": "python",
   "name": "python3"
  },
  "language_info": {
   "codemirror_mode": {
    "name": "ipython",
    "version": 3
   },
   "file_extension": ".py",
   "mimetype": "text/x-python",
   "name": "python",
   "nbconvert_exporter": "python",
   "pygments_lexer": "ipython3",
   "version": "3.10.13"
  }
 },
 "nbformat": 4,
 "nbformat_minor": 5
}
