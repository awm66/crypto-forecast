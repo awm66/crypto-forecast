{
 "cells": [
  {
   "cell_type": "code",
   "execution_count": 1,
   "id": "edb0ccd2-a4d7-4af9-a246-963990b67e3a",
   "metadata": {},
   "outputs": [],
   "source": [
    "# Dependencies\n",
    "import requests\n",
    "import time\n",
    "from dotenv import load_dotenv\n",
    "import os\n",
    "import pandas as pd\n",
    "from pandas import json_normalize\n",
    "import json\n",
    "import re"
   ]
  },
  {
   "cell_type": "code",
   "execution_count": null,
   "id": "ee0eb1ba-af9c-44e3-b551-db598d905ef5",
   "metadata": {},
   "outputs": [],
   "source": [
    "# Set environment variables from the .env in the local environment\n",
    "load_dotenv()\n",
    "\n",
    "# Set api keys\n",
    "fcs_api_key = os.getenv(\"fcs_api_key\")"
   ]
  },
  {
   "cell_type": "code",
   "execution_count": null,
   "id": "e2e67dfa-f7e6-4353-9495-b294a03cfc6c",
   "metadata": {},
   "outputs": [],
   "source": [
    "# URL for all crypto\n",
    "https://fcsapi.com/api-v3/crypto/list?type=crypto&fcs_access_key=\""
   ]
  },
  {
   "cell_type": "code",
   "execution_count": null,
   "id": "60486559-c0d4-42f1-bbdc-5b4c6a2b271d",
   "metadata": {},
   "outputs": [],
   "source": [
    "# Set the base URL\n",
    "#url = 'https://fcsapi.com/api-v3/crypto/latest?id=78&'"
   ]
  }
 ],
 "metadata": {
  "kernelspec": {
   "display_name": "Python 3 (ipykernel)",
   "language": "python",
   "name": "python3"
  },
  "language_info": {
   "codemirror_mode": {
    "name": "ipython",
    "version": 3
   },
   "file_extension": ".py",
   "mimetype": "text/x-python",
   "name": "python",
   "nbconvert_exporter": "python",
   "pygments_lexer": "ipython3",
   "version": "3.10.13"
  }
 },
 "nbformat": 4,
 "nbformat_minor": 5
}
